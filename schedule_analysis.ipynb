{
 "cells": [
  {
   "cell_type": "code",
   "execution_count": 1,
   "metadata": {},
   "outputs": [],
   "source": [
    "from helpers import read_pdf, get_employee_hours, read_data, get_weekly_hours"
   ]
  },
  {
   "cell_type": "code",
   "execution_count": 2,
   "metadata": {},
   "outputs": [],
   "source": [
    "SCHEDULE = \"data/schedule.pdf\"\n",
    "TEAM_DATA = \"data/TeamData.csv\""
   ]
  },
  {
   "cell_type": "code",
   "execution_count": 3,
   "metadata": {},
   "outputs": [
    {
     "data": {
      "text/plain": [
       "{'Sarah Z.': 2.0,\n",
       " 'Trey D.': 4.0,\n",
       " 'Olivia X.': 4.0,\n",
       " 'Dylan N.': 4.0,\n",
       " 'Vivian D.': 4.0,\n",
       " 'Kene O.': 4.0,\n",
       " 'Upasana L.': 4.0,\n",
       " 'Aidan G.': 7.0,\n",
       " 'Vitor I.': 4.0,\n",
       " 'Vincent L.': 3.0,\n",
       " 'Coralee R.': 5.0,\n",
       " 'Wisdom O.': 4.0,\n",
       " 'Navya K.': 4.0,\n",
       " 'Dika M.': 4.0,\n",
       " 'Lauren L.': 1.0,\n",
       " 'Sophie J.': 3.0,\n",
       " 'Erin B.': 2.0,\n",
       " 'Abigail K.': 4.0,\n",
       " 'Shaina P.': 3.0,\n",
       " 'Anusha G.': 4.0,\n",
       " 'Sarah C.': 3.0,\n",
       " 'Tyler S.': 3.0,\n",
       " 'Rosey A.': 2.0,\n",
       " 'Lauren F.': 2.0,\n",
       " 'Jayden L.': 3.0,\n",
       " 'Lynn L.': 2.0,\n",
       " 'Grace K.': 1.0,\n",
       " 'Bridget L.': 4.0,\n",
       " 'Aryonna R.': 1.0,\n",
       " 'Mary Carolyn K.': 5.0,\n",
       " 'Haley B.': 6.0,\n",
       " 'Emma J.': 8.0,\n",
       " 'Anthony V.': 2.0,\n",
       " 'Madeleine G.': 3.0,\n",
       " 'Benjamin E.': 4.0,\n",
       " 'Vrinda D.': 3.0,\n",
       " 'Shefali P.': 1.0,\n",
       " 'Chloe L.': 4.0,\n",
       " 'Ella G.': 3.0,\n",
       " 'Kate B.': 4.0,\n",
       " 'Ellie K.': 2.0,\n",
       " 'Camilla F.': 3.0,\n",
       " 'Audrey S.': 4.0,\n",
       " 'Anam P.': 3.0,\n",
       " 'Alyssa L.': 0.0}"
      ]
     },
     "execution_count": 3,
     "metadata": {},
     "output_type": "execute_result"
    }
   ],
   "source": [
    "homebase_hours: dict = get_employee_hours(read_pdf(SCHEDULE))\n",
    "homebase_hours"
   ]
  },
  {
   "cell_type": "code",
   "execution_count": 4,
   "metadata": {},
   "outputs": [
    {
     "data": {
      "text/plain": [
       "{'Abigail K.': 8,\n",
       " 'Adela Z.': 3,\n",
       " 'Aidan G.': 8,\n",
       " 'Anthony V.': 7,\n",
       " 'Anam P.': 4,\n",
       " 'Anusha G.': 4,\n",
       " 'Aryonna R.': 8,\n",
       " 'Audrey S.': 4,\n",
       " 'Benjamin E.': 6,\n",
       " 'Bridget L.': 4,\n",
       " 'Camilla F.': 3,\n",
       " 'Chiara S.': 3,\n",
       " 'Chloe L.': 4,\n",
       " 'Coralee R.': 7,\n",
       " 'Daisy A.': 4,\n",
       " 'Dika M.': 7,\n",
       " 'Dylan N.': 4,\n",
       " 'Ella G.': 4,\n",
       " 'Ellie K.': 4,\n",
       " 'Emma J.': 8,\n",
       " 'Erin B.': 3,\n",
       " 'Grace K.': 4,\n",
       " 'Haley B.': 8,\n",
       " 'Jayden L.': 3,\n",
       " 'Kaleb W.': 6,\n",
       " 'Kate B.': 4,\n",
       " 'Kene O.': 4,\n",
       " 'Lauren F.': 3,\n",
       " 'Lauren L.': 4,\n",
       " 'Lucas S.': 4,\n",
       " 'Lynn L.': 4,\n",
       " 'Madeleine G.': 4,\n",
       " 'Mary Carolyn K.': 8,\n",
       " 'Miguel V.': 4,\n",
       " 'Navya K.': 4,\n",
       " 'Olivia X.': 3,\n",
       " 'Rosey A.': 3,\n",
       " 'Sarah Z.': 4,\n",
       " 'Sarah C.': 3,\n",
       " 'Shaina P.': 3,\n",
       " 'Shefali P.': 3,\n",
       " 'Sophie J.': 1,\n",
       " 'Trey D.': 4,\n",
       " 'Tyler S.': 4,\n",
       " 'Upasana L.': 4,\n",
       " 'Vincent L.': 3,\n",
       " 'Vitor I.': 6,\n",
       " 'Vivian D.': 4,\n",
       " 'Vrinda D.': 3,\n",
       " 'Wisdom O.': 4}"
      ]
     },
     "execution_count": 4,
     "metadata": {},
     "output_type": "execute_result"
    }
   ],
   "source": [
    "team_info: list = read_data(TEAM_DATA)\n",
    "weekly_hours = get_weekly_hours(team_info)\n",
    "weekly_hours"
   ]
  },
  {
   "cell_type": "code",
   "execution_count": 5,
   "metadata": {},
   "outputs": [
    {
     "name": "stdout",
     "output_type": "stream",
     "text": [
      "Employee Alyssa L. not found.\n",
      "\n"
     ]
    }
   ],
   "source": [
    "over = {}\n",
    "under = {}\n",
    "log = \"\"\n",
    "for employee in homebase_hours.keys():\n",
    "\n",
    "    if employee in weekly_hours:\n",
    "        num_scheduled = int(homebase_hours[employee])\n",
    "        num_allotted = weekly_hours[employee]\n",
    "        info_str = \"Scheduled: \" + str(num_scheduled) + \", Given: \" + str(num_allotted)\n",
    "        if num_scheduled > num_allotted:\n",
    "            over[employee] = info_str\n",
    "        elif num_scheduled < num_allotted:\n",
    "            under[employee] = num_allotted - num_scheduled\n",
    "    else:\n",
    "        log += \"Employee \" + employee + \" not found.\\n\"\n",
    "print(log)\n",
    "\n",
    "#under\n",
    "\n"
   ]
  },
  {
   "cell_type": "code",
   "execution_count": 6,
   "metadata": {},
   "outputs": [
    {
     "ename": "TypeError",
     "evalue": "lecture_help() missing 1 required positional argument: 'airtable_data'",
     "output_type": "error",
     "traceback": [
      "\u001b[0;31m---------------------------------------------------------------------------\u001b[0m",
      "\u001b[0;31mTypeError\u001b[0m                                 Traceback (most recent call last)",
      "\u001b[1;32m/Users/alyssa/Documents/ShiftAnalysis/schedule_analysis.ipynb Cell 6\u001b[0m line \u001b[0;36m4\n\u001b[1;32m      <a href='vscode-notebook-cell:/Users/alyssa/Documents/ShiftAnalysis/schedule_analysis.ipynb#W5sZmlsZQ%3D%3D?line=0'>1</a>\u001b[0m \u001b[39m\"\"\"Write people who are under hours to a .csv\"\"\"\u001b[39;00m\n\u001b[1;32m      <a href='vscode-notebook-cell:/Users/alyssa/Documents/ShiftAnalysis/schedule_analysis.ipynb#W5sZmlsZQ%3D%3D?line=1'>2</a>\u001b[0m \u001b[39mfrom\u001b[39;00m \u001b[39mhelpers\u001b[39;00m \u001b[39mimport\u001b[39;00m export_under\n\u001b[0;32m----> <a href='vscode-notebook-cell:/Users/alyssa/Documents/ShiftAnalysis/schedule_analysis.ipynb#W5sZmlsZQ%3D%3D?line=3'>4</a>\u001b[0m export_under(under, team_info, \u001b[39m\"\u001b[39;49m\u001b[39mToContact.csv\u001b[39;49m\u001b[39m\"\u001b[39;49m)\n",
      "File \u001b[0;32m~/Documents/ShiftAnalysis/helpers.py:94\u001b[0m, in \u001b[0;36mexport_under\u001b[0;34m(employees, team_info, fname)\u001b[0m\n\u001b[1;32m     91\u001b[0m csvwriter \u001b[39m=\u001b[39m csv\u001b[39m.\u001b[39mwriter(csvfile) \n\u001b[1;32m     92\u001b[0m \u001b[39mfor\u001b[39;00m name \u001b[39min\u001b[39;00m employees\u001b[39m.\u001b[39mkeys():\n\u001b[1;32m     93\u001b[0m     \u001b[39m# If they help in lecture and are short by an hour, ignore\u001b[39;00m\n\u001b[0;32m---> 94\u001b[0m     \u001b[39mif\u001b[39;00m \u001b[39mnot\u001b[39;00m (lecture_help(name) \u001b[39mand\u001b[39;00m (employees[name] \u001b[39m==\u001b[39m \u001b[39m1\u001b[39m)):\n\u001b[1;32m     95\u001b[0m         csvwriter\u001b[39m.\u001b[39mwriterow(_get_mail_data(name, team_info, employees[name]))\n",
      "\u001b[0;31mTypeError\u001b[0m: lecture_help() missing 1 required positional argument: 'airtable_data'"
     ]
    }
   ],
   "source": [
    "\"\"\"Write people who are under hours to a .csv\"\"\"\n",
    "from helpers import export_under\n",
    "\n",
    "export_under(under, team_info, \"ToContact.csv\")"
   ]
  }
 ],
 "metadata": {
  "kernelspec": {
   "display_name": "Python 3",
   "language": "python",
   "name": "python3"
  },
  "language_info": {
   "codemirror_mode": {
    "name": "ipython",
    "version": 3
   },
   "file_extension": ".py",
   "mimetype": "text/x-python",
   "name": "python",
   "nbconvert_exporter": "python",
   "pygments_lexer": "ipython3",
   "version": "3.11.1"
  },
  "orig_nbformat": 4
 },
 "nbformat": 4,
 "nbformat_minor": 2
}
