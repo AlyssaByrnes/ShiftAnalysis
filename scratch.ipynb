{
 "cells": [
  {
   "cell_type": "code",
   "execution_count": 1,
   "metadata": {},
   "outputs": [],
   "source": [
    "from helpers import read_pdf\n",
    "\n",
    "df = read_pdf(\"data/schedule.pdf\", pages='all')\n"
   ]
  },
  {
   "cell_type": "code",
   "execution_count": 2,
   "metadata": {},
   "outputs": [
    {
     "data": {
      "text/plain": [
       "{'Sarah Z.': 3.0,\n",
       " 'Trey D.': 4.0,\n",
       " 'Olivia X.': 1.0,\n",
       " 'Dylan N.': 4.0,\n",
       " 'Lucas S.': 4.0,\n",
       " 'Vivian D.': 4.0,\n",
       " 'Kene O.': 4.0,\n",
       " 'Upasana L.': 4.0,\n",
       " 'Aidan G.': 8.0,\n",
       " 'Vitor I.': 4.0,\n",
       " 'Vincent L.': 3.0,\n",
       " 'Miguel V.': 4.0,\n",
       " 'Coralee R.': 5.0,\n",
       " 'Wisdom O.': 4.0,\n",
       " 'Navya K.': 4.0,\n",
       " 'Dika M.': 3.0,\n",
       " 'Chiara S.': 3.0,\n",
       " 'Sophie J.': 3.0,\n",
       " 'Erin B.': 1.0,\n",
       " 'Abigail K.': 4.0,\n",
       " 'Shaina P.': 3.0,\n",
       " 'Sarah C.': 3.0,\n",
       " 'Tyler S.': 4.0,\n",
       " 'Rosey A.': 2.0,\n",
       " 'Lauren F.': 3.0,\n",
       " 'Jayden L.': 3.0,\n",
       " 'Grace K.': 1.0,\n",
       " 'Bridget L.': 4.0,\n",
       " 'Aryonna R.': 6.0,\n",
       " 'Adela Z.': 3.0,\n",
       " 'Mary Carolyn K.': 6.0,\n",
       " 'Haley B.': 4.0,\n",
       " 'Emma J.': 8.0,\n",
       " 'Anthony V.': 2.0,\n",
       " 'Madeleine G.': 4.0,\n",
       " 'Kaleb W.': 4.0,\n",
       " 'Vrinda D.': 3.0,\n",
       " 'Shefali P.': 1.0,\n",
       " 'Chloe L.': 4.0,\n",
       " 'Ella G.': 4.0,\n",
       " 'Daisy A.': 4.0,\n",
       " 'Kate B.': 4.0,\n",
       " 'Ellie K.': 4.0,\n",
       " 'Camilla F.': 4.0,\n",
       " 'Audrey S.': 4.0,\n",
       " 'Anam P.': 4.0,\n",
       " 'Alyssa L.': 0.0}"
      ]
     },
     "execution_count": 2,
     "metadata": {},
     "output_type": "execute_result"
    }
   ],
   "source": [
    "from helpers import get_employee_hours\n",
    "\n",
    "get_employee_hours(df)"
   ]
  }
 ],
 "metadata": {
  "kernelspec": {
   "display_name": "Python 3",
   "language": "python",
   "name": "python3"
  },
  "language_info": {
   "codemirror_mode": {
    "name": "ipython",
    "version": 3
   },
   "file_extension": ".py",
   "mimetype": "text/x-python",
   "name": "python",
   "nbconvert_exporter": "python",
   "pygments_lexer": "ipython3",
   "version": "3.11.1"
  },
  "orig_nbformat": 4
 },
 "nbformat": 4,
 "nbformat_minor": 2
}
